{
 "cells": [
  {
   "cell_type": "markdown",
   "id": "098408f5-3dd6-4f25-ac90-7f85cb334697",
   "metadata": {},
   "source": [
    "## NetworkX and SpaceSyntax"
   ]
  },
  {
   "cell_type": "markdown",
   "id": "32ca46cd-a1ec-479e-bace-f8b1c60a87cd",
   "metadata": {},
   "source": [
    "#### Needed libraries"
   ]
  },
  {
   "cell_type": "code",
   "execution_count": 1,
   "id": "99aff3d5-f71a-495f-9736-a36d07ef3622",
   "metadata": {},
   "outputs": [
    {
     "name": "stderr",
     "output_type": "stream",
     "text": [
      "/usr/local/lib/python3.7/dist-packages/geopandas/_compat.py:110: UserWarning: The Shapely GEOS version (3.8.0-CAPI-1.13.1 ) is incompatible with the GEOS version PyGEOS was compiled with (3.10.0-CAPI-1.16.0). Conversions between both will be slow.\n",
      "  shapely_geos_version, geos_capi_version_string\n"
     ]
    }
   ],
   "source": [
    "import matplotlib.cm as cm\n",
    "import matplotlib.colors as colors\n",
    "import networkx as nx\n",
    "from IPython.display import Image\n",
    "from pprint import pprint\n",
    "import matplotlib.pyplot as plt\n",
    "import matplotlib.colors as mcolors\n",
    "import osmnx as ox\n",
    "import geopandas as gpd\n",
    "from shapely.geometry import Point, LineString"
   ]
  },
  {
   "cell_type": "code",
   "execution_count": 2,
   "id": "c6ddf121-76c8-450a-9e2a-36cd052d96a3",
   "metadata": {},
   "outputs": [
    {
     "data": {
      "text/plain": [
       "<matplotlib.collections.LineCollection at 0x7ff872845a50>"
      ]
     },
     "execution_count": 2,
     "metadata": {},
     "output_type": "execute_result"
    },
    {
     "data": {
      "image/png": "[encoded data removed]",
      "text/plain": [
       "<Figure size 864x576 with 1 Axes>"
      ]
     },
     "metadata": {},
     "output_type": "display_data"
    }
   ],
   "source": [
    "## This function reads shapefile, creates empty graph\n",
    "\n",
    "G = nx.read_shp(r'./Data/Priene_dotestow/Priene_dotestow_wgs.shp') \n",
    "\n",
    "''' Function nx.read_shp\n",
    "Generates a networkx.DiGraph from shapefiles. \n",
    "Point geometries are translated into nodes, lines into edges. \n",
    "Coordinate tuples are used as keys. \n",
    "Attributes are preserved, line geometries are simplified into start and end coordinates. \n",
    "Accepts a single shapefile or directory of many shapefiles.\n",
    "\n",
    "@Input : path : file or string \n",
    "    File, directory, or filename to read.\n",
    "@Output : G : NetworkX graph\n",
    "'''\n",
    "\n",
    "ng = G.nodes\n",
    "ng = [(-n[0], n[1]) for n in ng]\n",
    "\n",
    "\n",
    "pos = {k: v for k,v in enumerate(G.nodes())} ## This function creates directory of coordinates of nodes in graph,\n",
    "                                             ## where:\n",
    "                                             ##  key - ID (numeration) ; value - coordinate tuples\n",
    "                                             ## A dictionary with nodes as keys and positions as values\n",
    "\n",
    "X = nx.Graph() ## This function creates an empty graph\n",
    "X.add_nodes_from(pos.keys()) ## Add nodes preserving coordinates\n",
    "l = [set(x) for x in G.edges()]\n",
    "edg = [tuple(k for k,v in pos.items() if v in sl) for sl in l] ## Map the G.edges start and endpoints onto pos\n",
    "\n",
    "## Draw graph\n",
    "plt.figure(figsize=(12,8))\n",
    "nx.draw_networkx_nodes(X,pos,node_size=20,node_color='r')\n",
    "X.add_edges_from(edg)\n",
    "nx.draw_networkx_edges(X,pos)"
   ]
  },
  {
   "cell_type": "markdown",
   "id": "bad22fff-99b6-45d3-b7c8-60c187eb9606",
   "metadata": {
    "tags": []
   },
   "source": [
    "## Graph convertor - ShapefileToNetwork\n",
    "\n",
    "##### This function read the shapefile of the road network and convert it into graph by iterating through the lat, lon from the shapefile"
   ]
  },
  {
   "cell_type": "code",
   "execution_count": 3,
   "id": "80bb164c-149d-4df0-9c13-05c9c56e19d6",
   "metadata": {},
   "outputs": [
    {
     "name": "stdout",
     "output_type": "stream",
     "text": [
      "to jest G.edges 230\n"
     ]
    }
   ],
   "source": [
    "from ShapefileToNetwork.main.convertor import GraphConvertor\n",
    "\n",
    "input_file  =  './Data/Priene_dotestow/Priene_dotestow_wgs.shp'\n",
    "output_dir  =  './Data/Priene_dotestow/out_wgs'\n",
    "sysUTM = 'EPSG:32635'\n",
    "\n",
    "graph_convertor_obj = GraphConvertor.GraphConvertor(input_file, output_dir, sysUTM)\n",
    "network = graph_convertor_obj.graph_convertor()\n",
    "positions = graph_convertor_obj.positions"
   ]
  },
  {
   "cell_type": "markdown",
   "id": "1f9c6991-36a8-4de4-a1c3-3c9d73b1abfa",
   "metadata": {},
   "source": [
    "## Calculating Edge Betweenness Centrality\n",
    "\n",
    "#### This function calculates parameter Edge Betweenness Centrality from networkX library"
   ]
  },
  {
   "cell_type": "code",
   "execution_count": 4,
   "id": "0e31b584-a8d9-4c4a-98ec-3f5e1b1d6658",
   "metadata": {},
   "outputs": [
    {
     "name": "stderr",
     "output_type": "stream",
     "text": [
      "/usr/local/lib/python3.7/dist-packages/pyproj/crs/crs.py:53: FutureWarning: '+init=<authority>:<code>' syntax is deprecated. '<authority>:<code>' is the preferred initialization method. When making the change, be mindful of axis order changes: https://pyproj4.github.io/pyproj/stable/gotchas.html#axis-order-changes-in-proj-6\n",
      "  return _prepare_from_string(\" \".join(pjargs))\n"
     ]
    }
   ],
   "source": [
    "def DrawGraph(path, path2, path3):\n",
    "    Gr = nx.read_shp(path)\n",
    "    pos = {k: v for k,v in enumerate(Gr.nodes())}\n",
    "    X = nx.Graph()\n",
    "    X.add_nodes_from(pos.keys())\n",
    "    Ge = nx.read_shp(path2)\n",
    "    l=[x for x in Ge.edges()]\n",
    "    edg=[tuple(k for k,v in pos.items() if v in sl) for sl in l]\n",
    "\n",
    "    oidlista = []\n",
    "    for n in Ge.edges():\n",
    "        t = list(n)\n",
    "        oid = Ge.edges[t]['weight']\n",
    "        if oid != 0:\n",
    "            oidlista.append(oid)\n",
    "    \n",
    "    ed_cen = nx.edge_betweenness_centrality(Ge, weight = 'weight') \n",
    "    copiedd = dict.fromkeys(ed_cen.keys())\n",
    "    dictcopiedd = dict(zip(copiedd, oidlista))\n",
    "    nx.set_edge_attributes(Ge, dictcopiedd, \"weight\")\n",
    "    \n",
    "    so_ed_cen = nx.edge_betweenness_centrality(Ge, weight = 'weight')\n",
    "    so_ed_cen_2 = nx.edge_betweenness_centrality(Ge)\n",
    "    nx.set_edge_attributes(Ge, so_ed_cen, \"bet_w\")\n",
    "    nx.set_edge_attributes(Ge, so_ed_cen_2, \"bet\")\n",
    "    \n",
    "    so_df = nx.to_pandas_edgelist(Ge)\n",
    "    source = list(so_df[\"source\"])\n",
    "    target = list(so_df[\"target\"])\n",
    "    ed_cen_sub = nx.edge_betweenness_centrality_subset(Ge, sources = source, targets = target, normalized=True)\n",
    "    ed_cen_sub_2 = nx.edge_betweenness_centrality_subset(Ge, sources = source, targets = target, normalized=True, weight = \"weight\")\n",
    "    nx.set_edge_attributes(Ge, ed_cen_sub, \"bet_cen\")\n",
    "    nx.set_edge_attributes(Ge, ed_cen_sub_2, \"bet_cen_w\")\n",
    "    so_df = nx.to_pandas_edgelist(Ge)\n",
    "    so_df.to_csv(r'./Data/Priene_dotestow/out_wgs/New Shape/PrieneEBC/dataframe_Priene.csv')\n",
    "        \n",
    "    crs = {'init':'epsg:4326'}\n",
    "    \n",
    "    listLines = []\n",
    "    for i in range(len(so_df)):\n",
    "        listLines.append(f' LINESTRING ({so_df[\"source\"][i][0]} {so_df[\"source\"][i][1]}, {so_df[\"target\"][i][0]} {so_df[\"target\"][i][1]})')\n",
    "    so_df['geom'] = listLines\n",
    "    \n",
    "    gs = gpd.GeoSeries.from_wkt(so_df['geom'])\n",
    "    gdf = gpd.GeoDataFrame(so_df, crs=crs, geometry=gs)\n",
    "    gdf = gdf.drop(columns=['source', 'target','geom','Wkt', 'Wkb', 'Json', 'ShpName'])\n",
    "    gdf.to_file(path3, driver=\"ESRI Shapefile\")\n",
    "    \n",
    "    \n",
    "path_dest = (r'./Data/Priene_dotestow/out_wgs/New Shape/nodes.shp')\n",
    "path_dest2 = (r'./Data/Priene_dotestow/out_wgs/New Shape/edges.shp')\n",
    "path_dest3 = (r'./Data/Priene_dotestow/out_wgs/New Shape/PrieneEBC/output_priene.shp')\n",
    "DrawGraph(path_dest, path_dest2, path_dest3)"
   ]
  },
  {
   "cell_type": "code",
   "execution_count": null,
   "id": "cb102499-a598-49ba-b632-69bc6d450246",
   "metadata": {},
   "outputs": [],
   "source": []
  }
 ],
 "metadata": {
  "kernelspec": {
   "display_name": "Python 3 (ipykernel)",
   "language": "python",
   "name": "python3"
  },
  "language_info": {
   "codemirror_mode": {
    "name": "ipython",
    "version": 3
   },
   "file_extension": ".py",
   "mimetype": "text/x-python",
   "name": "python",
   "nbconvert_exporter": "python",
   "pygments_lexer": "ipython3",
   "version": "3.10.0"
  }
 },
 "nbformat": 4,
 "nbformat_minor": 5
}
